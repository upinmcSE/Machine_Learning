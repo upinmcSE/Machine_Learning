{
 "cells": [
  {
   "cell_type": "code",
   "execution_count": 1,
   "metadata": {},
   "outputs": [],
   "source": [
    "import numpy as np"
   ]
  },
  {
   "cell_type": "code",
   "execution_count": 2,
   "metadata": {},
   "outputs": [
    {
     "data": {
      "text/plain": [
       "array([[1., 1., 2.],\n",
       "       [1., 2., 3.],\n",
       "       [1., 3., 1.],\n",
       "       [1., 2., 5.],\n",
       "       [1., 4., 3.]])"
      ]
     },
     "execution_count": 2,
     "metadata": {},
     "output_type": "execute_result"
    }
   ],
   "source": [
    "X = np.array([[1, 2], [2, 3], [3, 1], [2, 5], [4, 3]])\n",
    "Y = np.array([1, 1, 1, 0, 0])\n",
    "\n",
    "X = np.hstack((np.ones((X.shape[0], 1)), X))\n",
    "X"
   ]
  },
  {
   "cell_type": "code",
   "execution_count": 3,
   "metadata": {},
   "outputs": [],
   "source": [
    "def sigmoid(z):\n",
    "    return 1 / (1 + np.exp(-z))"
   ]
  },
  {
   "cell_type": "code",
   "execution_count": 4,
   "metadata": {},
   "outputs": [],
   "source": [
    "def loss(theta):\n",
    "    L = 0\n",
    "    for x, y in zip(X, Y):\n",
    "        if y == 0:\n",
    "            L += - np.log(1 - sigmoid(np.dot(theta, x)))\n",
    "        else:\n",
    "            L += - np.log(sigmoid(np.dot(theta, x)))\n",
    "    return L / len(Y)"
   ]
  },
  {
   "cell_type": "code",
   "execution_count": 5,
   "metadata": {},
   "outputs": [],
   "source": [
    "def gradient(theta):\n",
    "    G = 0\n",
    "    for x, y in zip(X, Y):\n",
    "        G += (sigmoid(np.dot(theta, x)) - y) * x\n",
    "    return G / len(Y)"
   ]
  },
  {
   "cell_type": "code",
   "execution_count": 6,
   "metadata": {},
   "outputs": [],
   "source": [
    "# Phương pháp hướng giảm\n",
    "initial_theta = np.zeros(X.shape[1])\n",
    "learning_rate = 0.1\n",
    "tolerance = 1e-5\n",
    "max_iters = 1e4\n",
    "\n",
    "theta = initial_theta\n",
    "num_iters = 0\n",
    "loss_history = [loss(theta)]\n",
    "while True:\n",
    "    num_iters += 1\n",
    "    theta -= learning_rate * gradient(theta)\n",
    "    loss_history.append(loss(theta))\n",
    "    if np.linalg.norm(gradient(theta)) < tolerance or num_iters == max_iters:\n",
    "        break"
   ]
  },
  {
   "cell_type": "code",
   "execution_count": 7,
   "metadata": {},
   "outputs": [
    {
     "data": {
      "text/plain": [
       "10000"
      ]
     },
     "execution_count": 7,
     "metadata": {},
     "output_type": "execute_result"
    }
   ],
   "source": [
    "num_iters"
   ]
  },
  {
   "cell_type": "code",
   "execution_count": 8,
   "metadata": {},
   "outputs": [
    {
     "data": {
      "text/plain": [
       "array([16.53152849, -2.87476042, -2.8147178 ])"
      ]
     },
     "execution_count": 8,
     "metadata": {},
     "output_type": "execute_result"
    }
   ],
   "source": [
    "theta"
   ]
  },
  {
   "cell_type": "code",
   "execution_count": null,
   "metadata": {},
   "outputs": [],
   "source": [
    "loss_history"
   ]
  },
  {
   "cell_type": "code",
   "execution_count": 13,
   "metadata": {},
   "outputs": [],
   "source": [
    "x_pred = np.array([1, 1, 4])"
   ]
  },
  {
   "cell_type": "code",
   "execution_count": 11,
   "metadata": {},
   "outputs": [
    {
     "data": {
      "text/plain": [
       "np.float64(0.9166667880211175)"
      ]
     },
     "execution_count": 11,
     "metadata": {},
     "output_type": "execute_result"
    }
   ],
   "source": [
    "prob_pred = sigmoid(np.dot(theta, x_pred))\n",
    "prob_pred"
   ]
  },
  {
   "cell_type": "code",
   "execution_count": 12,
   "metadata": {},
   "outputs": [
    {
     "data": {
      "text/plain": [
       "1"
      ]
     },
     "execution_count": 12,
     "metadata": {},
     "output_type": "execute_result"
    }
   ],
   "source": [
    "y_pred = 1 if prob_pred >= 0.5 else 0\n",
    "y_pred"
   ]
  },
  {
   "cell_type": "code",
   "execution_count": 14,
   "metadata": {},
   "outputs": [
    {
     "data": {
      "text/plain": [
       "(np.float64(-1.02133166457951), np.float64(5.873245437301719))"
      ]
     },
     "execution_count": 14,
     "metadata": {},
     "output_type": "execute_result"
    }
   ],
   "source": [
    "a = - theta[1] / theta[2]\n",
    "b = - theta[0] / theta[2]\n",
    "a, b"
   ]
  },
  {
   "cell_type": "code",
   "execution_count": 15,
   "metadata": {},
   "outputs": [
    {
     "data": {
      "image/png": "[encoded data removed]",
      "text/plain": [
       "<Figure size 640x480 with 1 Axes>"
      ]
     },
     "metadata": {},
     "output_type": "display_data"
    }
   ],
   "source": [
    "import matplotlib.pyplot as plt\n",
    "\n",
    "plt.figure()\n",
    "plt.scatter(X[Y == 1][:, 1], X[Y == 1][:, 2], color = 'blue')\n",
    "plt.scatter(X[Y == 0][:, 1], X[Y == 0][:, 2], color = 'red')\n",
    "plt.scatter(x_pred[1], x_pred[2], color = 'purple', marker = 'x', s=100)\n",
    "\n",
    "\n",
    "X1 = np.linspace(0, 5, 100)\n",
    "X2 = a*X1 + b\n",
    "plt.plot(X1, X2, color = 'green')\n",
    "plt.show()"
   ]
  }
 ],
 "metadata": {
  "kernelspec": {
   "display_name": "venv",
   "language": "python",
   "name": "python3"
  },
  "language_info": {
   "codemirror_mode": {
    "name": "ipython",
    "version": 3
   },
   "file_extension": ".py",
   "mimetype": "text/x-python",
   "name": "python",
   "nbconvert_exporter": "python",
   "pygments_lexer": "ipython3",
   "version": "3.12.5"
  }
 },
 "nbformat": 4,
 "nbformat_minor": 2
}

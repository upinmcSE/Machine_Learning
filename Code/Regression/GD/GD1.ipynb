{
 "cells": [
  {
   "cell_type": "code",
   "execution_count": 1,
   "metadata": {},
   "outputs": [],
   "source": [
    "def mu(x):\n",
    "    return x**2"
   ]
  },
  {
   "cell_type": "code",
   "execution_count": 17,
   "metadata": {},
   "outputs": [
    {
     "name": "stdout",
     "output_type": "stream",
     "text": [
      "Tham số tối ưu: [1.67657894 1.02879033]\n"
     ]
    }
   ],
   "source": [
    "import numpy as np\n",
    "\n",
    "# Dữ liệu mẫu\n",
    "X = np.array([[2], [1], [2], [3], [4]])\n",
    "y = np.array([4, 5, 2, 2, 8])\n",
    "\n",
    "# Thêm cột bias\n",
    "X = np.c_[np.ones(X.shape[0]), X]\n",
    "\n",
    "# Khởi tạo tham số\n",
    "theta = np.zeros(X.shape[1])\n",
    "alpha = 0.01  # learning rate\n",
    "iterations = 1000\n",
    "tolerance = 0.001\n",
    "m = len(y)  # số lượng mẫu\n",
    "\n",
    "# Gradient Descent\n",
    "for _ in range(iterations):\n",
    "    predictions = X.dot(theta)\n",
    "    errors = predictions - y\n",
    "    gradient = (1/m) * X.T.dot(errors)\n",
    "    theta -= alpha * gradient\n",
    "    if np.linalg.norm(gradient) < tolerance:\n",
    "        break\n",
    "\n",
    "print(f\"Tham số tối ưu: {theta}\")"
   ]
  },
  {
   "cell_type": "code",
   "execution_count": null,
   "metadata": {},
   "outputs": [],
   "source": []
  }
 ],
 "metadata": {
  "kernelspec": {
   "display_name": "venv",
   "language": "python",
   "name": "python3"
  },
  "language_info": {
   "codemirror_mode": {
    "name": "ipython",
    "version": 3
   },
   "file_extension": ".py",
   "mimetype": "text/x-python",
   "name": "python",
   "nbconvert_exporter": "python",
   "pygments_lexer": "ipython3",
   "version": "3.12.5"
  }
 },
 "nbformat": 4,
 "nbformat_minor": 2
}

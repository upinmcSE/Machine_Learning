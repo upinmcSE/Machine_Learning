{
 "cells": [
  {
   "cell_type": "markdown",
   "metadata": {},
   "source": [
    "## Bài toán:\n",
    "- cho tập dữ liệu:\n",
    "    + x = [0, 1, 2, 3, 4, 5, 6, 7, 8, 9, 10, 11, 12, 13, 14]\n",
    "    + y = [7, 9, 2, 4, -1, 0, -4, -2, -5, -3, 0, 2, 1, 8]\n",
    "- Hãy chia tập dữ liệu thành 80/20 (train/test). Tính sắp xỉ mô hình bằng hổi quy đa thức bậc 2. Đánh giá MSE trên tập dữ liệu kiểm thử.\n",
    "Dự báo y(11,5). Trực quan hóa dữ liệu, kết quả mô hình "
   ]
  },
  {
   "cell_type": "code",
   "execution_count": 1,
   "metadata": {},
   "outputs": [],
   "source": [
    "import numpy as np\n",
    "import matplotlib.pyplot as plt"
   ]
  },
  {
   "cell_type": "code",
   "execution_count": 2,
   "metadata": {},
   "outputs": [],
   "source": [
    "# Nhập dữ liệu\n",
    "\n",
    "X = [0, 1, 2, 3, 4, 5, 6, 7, 8, 9, 10, 11, 12, 13, 14]\n",
    "Y = [7, 9, 2, 4, -1, 0, -4, -2, -5, -3, -3, 0, 2, 1, 8]"
   ]
  },
  {
   "cell_type": "code",
   "execution_count": 3,
   "metadata": {},
   "outputs": [
    {
     "data": {
      "text/plain": [
       "15"
      ]
     },
     "execution_count": 3,
     "metadata": {},
     "output_type": "execute_result"
    }
   ],
   "source": [
    "n = len(Y)\n",
    "n"
   ]
  },
  {
   "cell_type": "code",
   "execution_count": 4,
   "metadata": {},
   "outputs": [
    {
     "data": {
      "text/plain": [
       "array([14,  1,  2,  9,  7,  5,  3,  8, 11, 13, 12,  0, 10,  4,  6],\n",
       "      dtype=int32)"
      ]
     },
     "execution_count": 4,
     "metadata": {},
     "output_type": "execute_result"
    }
   ],
   "source": [
    "# random vị trí dữ liệu\n",
    "\n",
    "indexs = np.random.permutation(n)\n",
    "indexs"
   ]
  },
  {
   "cell_type": "code",
   "execution_count": 5,
   "metadata": {},
   "outputs": [],
   "source": [
    "# Lấy index cho tập train|test\n",
    "\n",
    "trains = indexs[: int(n*0.8)]\n",
    "tests = indexs[int(n*0.8): ]"
   ]
  },
  {
   "cell_type": "code",
   "execution_count": 6,
   "metadata": {},
   "outputs": [],
   "source": [
    "X = np.array(X)\n",
    "Y = np.array(Y)"
   ]
  },
  {
   "cell_type": "code",
   "execution_count": 7,
   "metadata": {},
   "outputs": [],
   "source": [
    "# lấy tập train|test theo index đã random\n",
    "\n",
    "X_train = X[trains]\n",
    "y_train = Y[trains]\n",
    "\n",
    "X_test = X[tests]\n",
    "y_test = Y[tests] \n"
   ]
  },
  {
   "cell_type": "code",
   "execution_count": 8,
   "metadata": {},
   "outputs": [
    {
     "data": {
      "text/plain": [
       "array([[  1,  14, 196],\n",
       "       [  1,   1,   1],\n",
       "       [  1,   2,   4],\n",
       "       [  1,   9,  81],\n",
       "       [  1,   7,  49],\n",
       "       [  1,   5,  25],\n",
       "       [  1,   3,   9],\n",
       "       [  1,   8,  64],\n",
       "       [  1,  11, 121],\n",
       "       [  1,  13, 169],\n",
       "       [  1,  12, 144],\n",
       "       [  1,   0,   0]])"
      ]
     },
     "execution_count": 8,
     "metadata": {},
     "output_type": "execute_result"
    }
   ],
   "source": [
    "Xs_train = np.expand_dims(X_train, axis=1) # chuyển tập trên thành ma trận cột\n",
    "Xs_train = np.concatenate((np.concatenate((np.ones_like(Xs_train), Xs_train), axis=1), Xs_train**2), axis=1) # Biến đổi ma trận lấy ra Ma trận tham số\n",
    "\n",
    "Xs_train"
   ]
  },
  {
   "cell_type": "code",
   "execution_count": 9,
   "metadata": {},
   "outputs": [
    {
     "data": {
      "text/plain": [
       "array([[ 8],\n",
       "       [ 9],\n",
       "       [ 2],\n",
       "       [-3],\n",
       "       [-2],\n",
       "       [ 0],\n",
       "       [ 4],\n",
       "       [-5],\n",
       "       [ 0],\n",
       "       [ 1],\n",
       "       [ 2],\n",
       "       [ 7]])"
      ]
     },
     "execution_count": 9,
     "metadata": {},
     "output_type": "execute_result"
    }
   ],
   "source": [
    "Ys_train = np.expand_dims(y_train, axis=1)\n",
    "Ys_train"
   ]
  },
  {
   "cell_type": "code",
   "execution_count": 10,
   "metadata": {},
   "outputs": [
    {
     "data": {
      "text/plain": [
       "array([[ 9.41108154],\n",
       "       [-3.18715579],\n",
       "       [ 0.20970482]])"
      ]
     },
     "execution_count": 10,
     "metadata": {},
     "output_type": "execute_result"
    }
   ],
   "source": [
    "# Tính trọng số a, b, c (vì đây là đa thức bậc 2 nên cơ sở là: {1, x, X^2})\n",
    "\n",
    "params = np.linalg.inv(Xs_train.T.dot(Xs_train)).dot(Xs_train.T.dot(Ys_train))\n",
    "params"
   ]
  },
  {
   "cell_type": "code",
   "execution_count": 11,
   "metadata": {},
   "outputs": [
    {
     "data": {
      "text/plain": [
       "array([[  1,  10, 100],\n",
       "       [  1,   4,  16],\n",
       "       [  1,   6,  36]])"
      ]
     },
     "execution_count": 11,
     "metadata": {},
     "output_type": "execute_result"
    }
   ],
   "source": [
    "Xs_test = np.expand_dims(X_test, axis=1)\n",
    "Xs_test = np.concatenate((np.concatenate((np.ones_like(Xs_test), Xs_test), axis=1), Xs_test**2), axis=1)\n",
    "\n",
    "Xs_test"
   ]
  },
  {
   "cell_type": "code",
   "execution_count": 12,
   "metadata": {},
   "outputs": [
    {
     "data": {
      "text/plain": [
       "array([[-3],\n",
       "       [-1],\n",
       "       [-4]])"
      ]
     },
     "execution_count": 12,
     "metadata": {},
     "output_type": "execute_result"
    }
   ],
   "source": [
    "Ys_test = np.expand_dims(y_test, axis=1)\n",
    "Ys_test"
   ]
  },
  {
   "cell_type": "code",
   "execution_count": 13,
   "metadata": {},
   "outputs": [
    {
     "data": {
      "text/plain": [
       "array([[-1.48999389],\n",
       "       [ 0.01773558],\n",
       "       [-2.1624795 ]])"
      ]
     },
     "execution_count": 13,
     "metadata": {},
     "output_type": "execute_result"
    }
   ],
   "source": [
    "# Dự đoán trên tập test \n",
    "\n",
    "y_pred = Xs_test.dot(params)\n",
    "y_pred"
   ]
  },
  {
   "cell_type": "code",
   "execution_count": 14,
   "metadata": {},
   "outputs": [
    {
     "data": {
      "text/plain": [
       "np.float64(13.511445618473603)"
      ]
     },
     "execution_count": 14,
     "metadata": {},
     "output_type": "execute_result"
    }
   ],
   "source": [
    "# Đánh giá sai số trên tập test\n",
    "\n",
    "MSE = 1 / len(y_test) * np.linalg.norm(y_pred - y_test)**2\n",
    "MSE"
   ]
  },
  {
   "cell_type": "code",
   "execution_count": 23,
   "metadata": {},
   "outputs": [
    {
     "data": {
      "text/plain": [
       "array([[0.49225301]])"
      ]
     },
     "execution_count": 23,
     "metadata": {},
     "output_type": "execute_result"
    }
   ],
   "source": [
    "# Dự đoán y(11.5)\n",
    "x = 11.5\n",
    "x = np.array([[1, x, x**2]])\n",
    "\n",
    "result = x.dot(params)\n",
    "result\n"
   ]
  },
  {
   "cell_type": "code",
   "execution_count": 48,
   "metadata": {},
   "outputs": [
    {
     "data": {
      "image/png": "[encoded data removed]",
      "text/plain": [
       "<Figure size 1000x600 with 1 Axes>"
      ]
     },
     "metadata": {},
     "output_type": "display_data"
    }
   ],
   "source": [
    "# Trực quan hóa dữ liệu và kết quả từ mô hình vừa xây dựng\n",
    "\n",
    "plt.figure(figsize=(10,6))\n",
    "\n",
    "plt.scatter(X_train, y_train, color='b', label=\"Training data\", s=100)\n",
    "plt.scatter(X_test, y_test, color='r', label=\"Test data\", s=100)\n",
    "\n",
    "y_values = params[0][0] + params[1][0] * X + params[2][0] * X**2\n",
    "\n",
    "plt.plot(X , y_values, color='g', label='Regression Line', linewidth=2)\n",
    "\n",
    "\n",
    "plt.legend()\n",
    "plt.show()"
   ]
  },
  {
   "cell_type": "code",
   "execution_count": null,
   "metadata": {},
   "outputs": [],
   "source": []
  }
 ],
 "metadata": {
  "kernelspec": {
   "display_name": "venv",
   "language": "python",
   "name": "python3"
  },
  "language_info": {
   "codemirror_mode": {
    "name": "ipython",
    "version": 3
   },
   "file_extension": ".py",
   "mimetype": "text/x-python",
   "name": "python",
   "nbconvert_exporter": "python",
   "pygments_lexer": "ipython3",
   "version": "3.12.5"
  }
 },
 "nbformat": 4,
 "nbformat_minor": 2
}

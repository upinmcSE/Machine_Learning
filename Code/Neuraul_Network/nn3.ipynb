{
 "cells": [
  {
   "cell_type": "code",
   "execution_count": 119,
   "metadata": {},
   "outputs": [],
   "source": [
    "import numpy as np\n",
    "import matplotlib.pyplot as plt"
   ]
  },
  {
   "cell_type": "code",
   "execution_count": 120,
   "metadata": {},
   "outputs": [],
   "source": [
    "X = np.array([[-2],\n",
    "              [1],\n",
    "              [2],\n",
    "              [3],\n",
    "              [4]])\n",
    "\n",
    "Y = np.array([[4],\n",
    "              [5],\n",
    "              [2],\n",
    "              [2],\n",
    "              [8]])"
   ]
  },
  {
   "cell_type": "code",
   "execution_count": 121,
   "metadata": {},
   "outputs": [
    {
     "name": "stdout",
     "output_type": "stream",
     "text": [
      "W1: [[ 1 -2  5]]\n",
      "b1: [[ 2]\n",
      " [-1]\n",
      " [ 1]]\n",
      "W2: [[ 4 -3  1  5]\n",
      " [ 5  2 -1 -2]\n",
      " [ 2  2 -3  0]]\n",
      "b2: [[-1]\n",
      " [-4]\n",
      " [ 2]\n",
      " [ 0]]\n",
      "W3: [[-4]\n",
      " [-1]\n",
      " [-5]\n",
      " [ 4]]\n",
      "b3: [[0]]\n"
     ]
    }
   ],
   "source": [
    "\n",
    "np.random.seed(42)\n",
    "W1 = np.random.randint(-5, 6, (1, 3))  # Kích thước (1, 3) cho lớp ẩn đầu tiên\n",
    "b1 = np.random.randint(-5, 6, (3, 1))  # Kích thước (3, 1) cho lớp ẩn đầu tiên\n",
    "\n",
    "W2 = np.random.randint(-5, 6, (3, 4))  # Kích thước (3, 4) cho lớp ẩn thứ hai\n",
    "b2 = np.random.randint(-5, 6, (4, 1))  # Kích thước (4, 1) cho lớp ẩn thứ hai\n",
    "\n",
    "W3 = np.random.randint(-5, 6, (4, 1))  # Kích thước (4, 1) cho lớp đầu ra\n",
    "b3 = np.random.randint(-5, 6, (1, 1))  # Kích thước (1, 1) cho lớp đầu ra\n",
    "\n",
    "print(\"W1:\", W1)\n",
    "print(\"b1:\", b1)\n",
    "print(\"W2:\", W2)\n",
    "print(\"b2:\", b2)\n",
    "print(\"W3:\", W3)\n",
    "print(\"b3:\", b3)"
   ]
  },
  {
   "cell_type": "code",
   "execution_count": 122,
   "metadata": {},
   "outputs": [],
   "source": [
    "def relu(z):\n",
    "    return np.maximum(z, 0)"
   ]
  },
  {
   "cell_type": "code",
   "execution_count": 123,
   "metadata": {},
   "outputs": [],
   "source": [
    "def relu_derivative(z):\n",
    "    return np.where(z > 0, 1, 0)"
   ]
  },
  {
   "cell_type": "code",
   "execution_count": 124,
   "metadata": {},
   "outputs": [],
   "source": [
    "Z1 = X.dot(W1) + b1.T \n",
    "H1 = relu(Z1)\n",
    "Z2 = H1.dot(W2) + b2.T  \n",
    "H2 = relu(Z2)\n",
    "Y_pred = (H2.dot(W3)).T + b3\n",
    "J = np.linalg.norm(Y_pred - Y)**2 / len(Y)  # Hàm mất mát"
   ]
  },
  {
   "cell_type": "code",
   "execution_count": 125,
   "metadata": {},
   "outputs": [
    {
     "data": {
      "text/plain": [
       "(array([[ 0,  3, -9],\n",
       "        [ 3, -3,  6],\n",
       "        [ 4, -5, 11],\n",
       "        [ 5, -7, 16],\n",
       "        [ 6, -9, 21]]),\n",
       " array([[ 0,  3,  0],\n",
       "        [ 3,  0,  6],\n",
       "        [ 4,  0, 11],\n",
       "        [ 5,  0, 16],\n",
       "        [ 6,  0, 21]]),\n",
       " array([[ 14,   2,  -1,  -6],\n",
       "        [ 23,  -1, -13,  15],\n",
       "        [ 37,   6, -27,  20],\n",
       "        [ 51,  13, -41,  25],\n",
       "        [ 65,  20, -55,  30]]),\n",
       " array([[14,  2,  0,  0],\n",
       "        [23,  0,  0, 15],\n",
       "        [37,  6,  0, 20],\n",
       "        [51, 13,  0, 25],\n",
       "        [65, 20,  0, 30]]),\n",
       " array([[ -58,  -32,  -74, -117, -160]]),\n",
       " np.float64(52970.40000000001))"
      ]
     },
     "execution_count": 125,
     "metadata": {},
     "output_type": "execute_result"
    }
   ],
   "source": [
    "Z1, H1, Z2, H2, Y_pred, J"
   ]
  },
  {
   "cell_type": "code",
   "execution_count": 126,
   "metadata": {},
   "outputs": [
    {
     "name": "stdout",
     "output_type": "stream",
     "text": [
      "gradient_J_Y_pred: (5, 5)\n"
     ]
    },
    {
     "ename": "ValueError",
     "evalue": "shapes (5,5) and (1,4) not aligned: 5 (dim 1) != 1 (dim 0)",
     "output_type": "error",
     "traceback": [
      "\u001b[1;31m---------------------------------------------------------------------------\u001b[0m",
      "\u001b[1;31mValueError\u001b[0m                                Traceback (most recent call last)",
      "Cell \u001b[1;32mIn[126], line 4\u001b[0m\n\u001b[0;32m      1\u001b[0m gradient_J_Y_pred \u001b[38;5;241m=\u001b[39m \u001b[38;5;241m2\u001b[39m \u001b[38;5;241m/\u001b[39m \u001b[38;5;28mlen\u001b[39m(Y) \u001b[38;5;241m*\u001b[39m (Y_pred \u001b[38;5;241m-\u001b[39m Y)\n\u001b[0;32m      2\u001b[0m \u001b[38;5;28mprint\u001b[39m(\u001b[38;5;124m\"\u001b[39m\u001b[38;5;124mgradient_J_Y_pred:\u001b[39m\u001b[38;5;124m\"\u001b[39m, gradient_J_Y_pred\u001b[38;5;241m.\u001b[39mshape)\n\u001b[1;32m----> 4\u001b[0m gradient_J_H2 \u001b[38;5;241m=\u001b[39m \u001b[43mgradient_J_Y_pred\u001b[49m\u001b[38;5;241;43m.\u001b[39;49m\u001b[43mdot\u001b[49m\u001b[43m(\u001b[49m\u001b[43mW3\u001b[49m\u001b[38;5;241;43m.\u001b[39;49m\u001b[43mT\u001b[49m\u001b[43m)\u001b[49m  \u001b[38;5;66;03m# Sửa nhân với W3.T thay vì W2.T\u001b[39;00m\n\u001b[0;32m      5\u001b[0m gradient_J_W3 \u001b[38;5;241m=\u001b[39m H2\u001b[38;5;241m.\u001b[39mT\u001b[38;5;241m.\u001b[39mdot(gradient_J_Y_pred)\n\u001b[0;32m      6\u001b[0m gradient_J_b3 \u001b[38;5;241m=\u001b[39m gradient_J_Y_pred\u001b[38;5;241m.\u001b[39msum(axis\u001b[38;5;241m=\u001b[39m\u001b[38;5;241m0\u001b[39m, keepdims\u001b[38;5;241m=\u001b[39m\u001b[38;5;28;01mTrue\u001b[39;00m)\n",
      "\u001b[1;31mValueError\u001b[0m: shapes (5,5) and (1,4) not aligned: 5 (dim 1) != 1 (dim 0)"
     ]
    }
   ],
   "source": [
    "gradient_J_Y_pred = 2 / len(Y) * (Y_pred - Y)\n",
    "print(\"gradient_J_Y_pred:\", gradient_J_Y_pred.shape)\n",
    "\n",
    "gradient_J_H2 = gradient_J_Y_pred.dot(W3.T)  # Sửa nhân với W3.T thay vì W2.T\n",
    "gradient_J_W3 = H2.T.dot(gradient_J_Y_pred)\n",
    "gradient_J_b3 = gradient_J_Y_pred.sum(axis=0, keepdims=True)\n",
    "\n",
    "gradient_J_Z2 = gradient_J_H2 * relu_derivative(Z2)\n",
    "gradient_J_H1 = gradient_J_Z2.dot(W2.T)\n",
    "gradient_J_W2 = H1.T.dot(gradient_J_Z2)\n",
    "gradient_J_b2 = gradient_J_Z2.sum(axis=0, keepdims=True)\n",
    "\n",
    "gradient_J_Z1 = gradient_J_H1 * relu_derivative(Z1)\n",
    "gradient_J_W1 = X.T.dot(gradient_J_Z1)\n",
    "gradient_J_b1 = gradient_J_Z1.sum(axis=0, keepdims=True)"
   ]
  },
  {
   "cell_type": "code",
   "execution_count": null,
   "metadata": {},
   "outputs": [
    {
     "data": {
      "text/plain": [
       "(array([[-24.8],\n",
       "        [-14.8],\n",
       "        [-30.4],\n",
       "        [-47.6],\n",
       "        [-67.2]]),\n",
       " array([[  99.2,   24.8,  124. ,  -99.2],\n",
       "        [  59.2,   14.8,   74. ,  -59.2],\n",
       "        [ 121.6,   30.4,  152. , -121.6],\n",
       "        [ 190.4,   47.6,  238. , -190.4],\n",
       "        [ 268.8,   67.2,  336. , -268.8]]),\n",
       " array([[-8608. ],\n",
       "        [-2194.8],\n",
       "        [    0. ],\n",
       "        [-4036. ]]),\n",
       " array([[-184.8]]),\n",
       " array([[  99.2,   24.8,    0. ,   -0. ],\n",
       "        [  59.2,    0. ,    0. ,  -59.2],\n",
       "        [ 121.6,   30.4,    0. , -121.6],\n",
       "        [ 190.4,   47.6,    0. , -190.4],\n",
       "        [ 268.8,   67.2,    0. , -268.8]]))"
      ]
     },
     "execution_count": 63,
     "metadata": {},
     "output_type": "execute_result"
    }
   ],
   "source": [
    "gradient_J_Y_pred, gradient_J_H2, gradient_J_W3, gradient_J_b3, gradient_J_Z2,\n"
   ]
  },
  {
   "cell_type": "code",
   "execution_count": null,
   "metadata": {},
   "outputs": [
    {
     "data": {
      "text/plain": [
       "(array([[ 322.4,  545.6,  248. ],\n",
       "        [ -59.2,  414.4,  118.4],\n",
       "        [-212.8,  912. ,  304. ],\n",
       "        [-333.2, 1428. ,  476. ],\n",
       "        [-470.4, 2016. ,  672. ]]),\n",
       " array([[  3228.8,    762.8,      0. ,  -3228.8],\n",
       "        [   297.6,     74.4,      0. ,      0. ],\n",
       "        [ 10384. ,   2507.2,      0. , -10384. ]]),\n",
       " array([[ 739.2,  170. ,    0. , -640. ]]),\n",
       " array([[   0. ,  545.6,    0. ],\n",
       "        [ -59.2,    0. ,  118.4],\n",
       "        [-212.8,    0. ,  304. ],\n",
       "        [-333.2,    0. ,  476. ],\n",
       "        [-470.4,    0. ,  672. ]]),\n",
       " array([[-3366. , -1091.2,  4842.4]]),\n",
       " array([[-1075.6,   545.6,  1570.4]]))"
      ]
     },
     "execution_count": 64,
     "metadata": {},
     "output_type": "execute_result"
    }
   ],
   "source": [
    "gradient_J_H1, gradient_J_W2, gradient_J_b2,gradient_J_Z1, gradient_J_W1, gradient_J_b1"
   ]
  },
  {
   "cell_type": "code",
   "execution_count": null,
   "metadata": {},
   "outputs": [
    {
     "data": {
      "text/plain": [
       "(np.float64(5997.4587284949275),\n",
       " np.float64(1980.0886040781104),\n",
       " np.float64(15603.436406125416),\n",
       " np.float64(992.4296650141007),\n",
       " np.float64(9757.259197131129),\n",
       " np.float64(184.8))"
      ]
     },
     "execution_count": 65,
     "metadata": {},
     "output_type": "execute_result"
    }
   ],
   "source": [
    "np.linalg.norm(gradient_J_W1),np.linalg.norm(gradient_J_b1), np.linalg.norm(gradient_J_W2), np.linalg.norm(gradient_J_b2), np.linalg.norm(gradient_J_W3), np.linalg.norm(gradient_J_b3), "
   ]
  },
  {
   "cell_type": "code",
   "execution_count": null,
   "metadata": {},
   "outputs": [],
   "source": [
    "# Cập nhật tham số\n",
    "W1 = W1 - learning_rate * gradient_J_W1\n",
    "b1 = b1 - learning_rate * gradient_J_b1\n",
    "\n",
    "W2 = W2 - learning_rate * gradient_J_W2\n",
    "b2 = b2 - learning_rate * gradient_J_b2\n",
    "\n",
    "W3 = W3 - learning_rate * gradient_J_W3\n",
    "b3 = b3 - learning_rate * gradient_J_b3"
   ]
  },
  {
   "cell_type": "code",
   "execution_count": null,
   "metadata": {},
   "outputs": [
    {
     "data": {
      "text/plain": [
       "(array([[ 337.6 ,  107.12, -479.24]]),\n",
       " array([[ 109.56,  -52.56, -155.04],\n",
       "        [ 106.56,  -55.56, -158.04],\n",
       "        [ 108.56,  -53.56, -156.04]]),\n",
       " array([[-3.1888e+02, -7.9280e+01,  1.0000e+00,  3.2788e+02],\n",
       "        [-2.4760e+01, -5.4400e+00, -1.0000e+00, -2.0000e+00],\n",
       "        [-1.0364e+03, -2.4872e+02, -3.0000e+00,  1.0384e+03]]),\n",
       " array([[-74.92, -18.  ,  -1.  ,  63.  ],\n",
       "        [-77.92, -21.  ,  -4.  ,  60.  ],\n",
       "        [-71.92, -15.  ,   2.  ,  66.  ],\n",
       "        [-73.92, -17.  ,   0.  ,  64.  ]]),\n",
       " array([[856.8 ],\n",
       "        [218.48],\n",
       "        [ -5.  ],\n",
       "        [407.6 ]]),\n",
       " array([[18.48]]))"
      ]
     },
     "execution_count": 67,
     "metadata": {},
     "output_type": "execute_result"
    }
   ],
   "source": [
    "W1, b1, W2, b2, W3, b3"
   ]
  },
  {
   "cell_type": "code",
   "execution_count": null,
   "metadata": {},
   "outputs": [],
   "source": [
    "iter = 1000\n",
    "tolerance = 0.001\n",
    "learning_rate = 0.1\n",
    "step = 0\n",
    "history = []"
   ]
  },
  {
   "cell_type": "code",
   "execution_count": 130,
   "metadata": {},
   "outputs": [
    {
     "name": "stdout",
     "output_type": "stream",
     "text": [
      "W1: [[ 2 -3 -5]]\n",
      "b1: [[-2 -4  2]]\n",
      "W2: [[-2 -4  0  0]\n",
      " [ 4 -2  0 -4]\n",
      " [ 4 -4  4 -2]]\n",
      "b2: [[2 1 3 2]]\n",
      "W3: [[-1]\n",
      " [-4]\n",
      " [-1]\n",
      " [ 2]]\n",
      "b3: [[4]]\n",
      "Số bước: 658\n",
      "Giá trị cuối cùng: 4.9500000000361\n",
      "Dự đoán: [3.99999817 4.25000665 4.25000665 4.25000665 4.25000665]\n",
      "Thực tế: [4 5 2 2 8]\n"
     ]
    }
   ],
   "source": [
    "import numpy as np\n",
    "\n",
    "# Dữ liệu đầu vào\n",
    "X = np.array([[-2], [1], [2], [3], [4]])\n",
    "Y = np.array([[4], [5], [2], [2], [8]])\n",
    "\n",
    "# Khởi tạo các siêu tham số\n",
    "learning_rate = 0.01\n",
    "tolerance = 1e-5\n",
    "iter_max = 1000\n",
    "step = 0\n",
    "history = []\n",
    "\n",
    "# Khởi tạo trọng số và độ chệch (chuyển sang float64)\n",
    "# np.random.seed(42)\n",
    "W1 = np.random.randint(-5, 6, (1, 3))\n",
    "b1 = np.random.randint(-5, 6, (1, 3))\n",
    "W2 = np.random.randint(-5, 6, (3, 4))\n",
    "b2 = np.random.randint(-5, 6, (1, 4))\n",
    "W3 = np.random.randint(-5, 6, (4, 1))\n",
    "b3 = np.random.randint(-5, 6, (1, 1))\n",
    "\n",
    "print(\"W1:\", W1)\n",
    "print(\"b1:\", b1)\n",
    "\n",
    "print(\"W2:\", W2)\n",
    "print(\"b2:\", b2)\n",
    "\n",
    "print(\"W3:\", W3)\n",
    "print(\"b3:\", b3)\n",
    "\n",
    "def relu(x):\n",
    "    return np.maximum(0, x)\n",
    "\n",
    "def relu_derivative(x):\n",
    "    return (x > 0).astype(float)\n",
    "\n",
    "# Vòng lặp huấn luyện\n",
    "while step < iter_max:\n",
    "    step += 1\n",
    "\n",
    "    # Lan truyền tiến\n",
    "    Z1 = X.dot(W1) + b1\n",
    "    H1 = relu(Z1)\n",
    "    Z2 = H1.dot(W2) + b2\n",
    "    H2 = relu(Z2)\n",
    "    Y_pred = H2.dot(W3) + b3\n",
    "    J = np.linalg.norm(Y_pred - Y)**2 / len(Y)\n",
    "\n",
    "    history.append(J)\n",
    "\n",
    "    # Lan truyền ngược\n",
    "    gradient_J_Y_pred = 2/len(Y) * (Y_pred - Y)\n",
    "\n",
    "    gradient_J_H2 = gradient_J_Y_pred.dot(W3.T)\n",
    "    gradient_J_W3 = H2.T.dot(gradient_J_Y_pred)\n",
    "    gradient_J_b3 = gradient_J_Y_pred.sum(axis=0)\n",
    "\n",
    "    gradient_J_Z2 = gradient_J_H2 * relu_derivative(Z2)\n",
    "    gradient_J_H1 = gradient_J_Z2.dot(W2.T)\n",
    "    gradient_J_W2 = H1.T.dot(gradient_J_Z2)\n",
    "    gradient_J_b2 = gradient_J_Z2.sum(axis=0)\n",
    "\n",
    "    gradient_J_Z1 = gradient_J_H1 * relu_derivative(Z1)\n",
    "    gradient_J_W1 = X.T.dot(gradient_J_Z1)\n",
    "    gradient_J_b1 = gradient_J_Z1.sum(axis=0)\n",
    "\n",
    "    W1 = W1 - learning_rate * gradient_J_W1\n",
    "    b1 = b1 - learning_rate * gradient_J_b1\n",
    "\n",
    "    W2 = W2 - learning_rate * gradient_J_W2\n",
    "    b2 = b2 - learning_rate * gradient_J_b2\n",
    "\n",
    "    W3 = W3 - learning_rate * gradient_J_W3\n",
    "    b3 = b3 - learning_rate * gradient_J_b3\n",
    "\n",
    "    # Điều kiện dừng\n",
    "    if (np.linalg.norm(gradient_J_W1) < tolerance and\n",
    "        np.linalg.norm(gradient_J_b1) < tolerance and\n",
    "        np.linalg.norm(gradient_J_W2) < tolerance and\n",
    "        np.linalg.norm(gradient_J_b2) < tolerance and\n",
    "        np.linalg.norm(gradient_J_W3) < tolerance and\n",
    "        np.linalg.norm(gradient_J_b3) < tolerance):\n",
    "        break\n",
    "\n",
    "print(\"Số bước:\", step)\n",
    "print(\"Giá trị cuối cùng:\", J)\n",
    "print(\"Dự đoán:\", Y_pred.flatten())\n",
    "print(\"Thực tế:\", Y.flatten())"
   ]
  },
  {
   "cell_type": "code",
   "execution_count": 131,
   "metadata": {},
   "outputs": [
    {
     "name": "stdout",
     "output_type": "stream",
     "text": [
      "Dự báo tại X_test = -1: [[3.9999982]]\n"
     ]
    }
   ],
   "source": [
    "# Dự báo giá trị Y(-1)\n",
    "X_test = np.array([[-1]])  # Dữ liệu đầu vào cho dự báo\n",
    "Z1_test = X_test.dot(W1) + b1\n",
    "H1_test = relu(Z1_test)\n",
    "Z2_test = H1_test.dot(W2) + b2\n",
    "H2_test = relu(Z2_test)\n",
    "Y_pred_test = H2_test.dot(W3) + b3\n",
    "\n",
    "print(\"Dự báo tại X_test = -1:\", Y_pred_test)"
   ]
  },
  {
   "cell_type": "code",
   "execution_count": 132,
   "metadata": {},
   "outputs": [
    {
     "data": {
      "image/png": "[encoded data removed]",
      "text/plain": [
       "<Figure size 640x480 with 1 Axes>"
      ]
     },
     "metadata": {},
     "output_type": "display_data"
    }
   ],
   "source": [
    "Z1 = X.dot(W1) + b1  # Cộng b1 có dạng (1, 4)\n",
    "H1 = relu(Z1)\n",
    "Z2 = H1.dot(W2) + b2  # Cộng b2 có dạng (1, 2)\n",
    "H2 = relu(Z2)\n",
    "Y_pred_2 = H2.dot(W3) + b3  # Cộng b3 có dạng (1, 1)\n",
    "\n",
    "# Vẽ đồ thị dữ liệu thực tế và đường hồi quy\n",
    "plt.scatter(X, Y, color='blue', label='Dữ liệu thực tế')  # Dữ liệu thực tế\n",
    "plt.plot(X, Y_pred_2, color='red', label='Đường hồi quy (dự đoán)', linestyle='--')  # Đường hồi quy\n",
    "plt.xlabel('X')\n",
    "plt.ylabel('Y')\n",
    "plt.title('Dữ liệu thực tế và Đường hồi quy')\n",
    "plt.legend()\n",
    "plt.grid(True)\n",
    "plt.show()"
   ]
  }
 ],
 "metadata": {
  "kernelspec": {
   "display_name": "venv",
   "language": "python",
   "name": "python3"
  },
  "language_info": {
   "codemirror_mode": {
    "name": "ipython",
    "version": 3
   },
   "file_extension": ".py",
   "mimetype": "text/x-python",
   "name": "python",
   "nbconvert_exporter": "python",
   "pygments_lexer": "ipython3",
   "version": "3.12.5"
  }
 },
 "nbformat": 4,
 "nbformat_minor": 2
}

{
 "cells": [
  {
   "cell_type": "markdown",
   "metadata": {},
   "source": [
    "#### Cho bộ dữ liệu\n",
    "\n",
    "X = [1, 2, 3, 4]\n",
    "Y = [2, 1, 1, 3]\n",
    "\n",
    "#### Xây dựng mạng Nơ - ron cho Bài toán hồi quy tuyến tính"
   ]
  },
  {
   "cell_type": "code",
   "execution_count": 266,
   "metadata": {},
   "outputs": [],
   "source": [
    "import numpy as np\n",
    "import matplotlib.pyplot as plt"
   ]
  },
  {
   "cell_type": "code",
   "execution_count": 267,
   "metadata": {},
   "outputs": [],
   "source": [
    "X = np.array([[1],\n",
    "              [2],\n",
    "              [3],\n",
    "              [4]])\n",
    "\n",
    "Y = np.array([[2],\n",
    "              [1],\n",
    "              [1],\n",
    "              [3]])"
   ]
  },
  {
   "cell_type": "code",
   "execution_count": 268,
   "metadata": {},
   "outputs": [
    {
     "data": {
      "text/plain": [
       "array([[0.52779434, 0.32738924, 0.95515224]])"
      ]
     },
     "execution_count": 268,
     "metadata": {},
     "output_type": "execute_result"
    }
   ],
   "source": [
    "W1 = np.random.rand(1, 3)\n",
    "W1"
   ]
  },
  {
   "cell_type": "code",
   "execution_count": 269,
   "metadata": {},
   "outputs": [
    {
     "data": {
      "text/plain": [
       "array([[0.35953407],\n",
       "       [0.69825998],\n",
       "       [0.85932431]])"
      ]
     },
     "execution_count": 269,
     "metadata": {},
     "output_type": "execute_result"
    }
   ],
   "source": [
    "b1 = np.random.rand(3, 1)\n",
    "b1"
   ]
  },
  {
   "cell_type": "code",
   "execution_count": 270,
   "metadata": {},
   "outputs": [
    {
     "data": {
      "text/plain": [
       "array([[0.95398401, 0.88064086, 0.76868905, 0.73616534],\n",
       "       [0.23456265, 0.17044742, 0.60350136, 0.80096264],\n",
       "       [0.45469235, 0.66145603, 0.40563624, 0.52384491]])"
      ]
     },
     "execution_count": 270,
     "metadata": {},
     "output_type": "execute_result"
    }
   ],
   "source": [
    "\n",
    "W2 = np.random.rand(3, 4)\n",
    "W2"
   ]
  },
  {
   "cell_type": "code",
   "execution_count": 271,
   "metadata": {},
   "outputs": [
    {
     "data": {
      "text/plain": [
       "array([[0.37595462],\n",
       "       [0.258123  ],\n",
       "       [0.49382451],\n",
       "       [0.17859498]])"
      ]
     },
     "execution_count": 271,
     "metadata": {},
     "output_type": "execute_result"
    }
   ],
   "source": [
    "b2 = np.random.rand(4, 1)\n",
    "b2"
   ]
  },
  {
   "cell_type": "code",
   "execution_count": 272,
   "metadata": {},
   "outputs": [
    {
     "data": {
      "text/plain": [
       "(4, 1)"
      ]
     },
     "execution_count": 272,
     "metadata": {},
     "output_type": "execute_result"
    }
   ],
   "source": [
    "W3 = np.random.rand(4, 1)\n",
    "W3.shape"
   ]
  },
  {
   "cell_type": "code",
   "execution_count": 273,
   "metadata": {},
   "outputs": [
    {
     "data": {
      "text/plain": [
       "array([[0.62946572]])"
      ]
     },
     "execution_count": 273,
     "metadata": {},
     "output_type": "execute_result"
    }
   ],
   "source": [
    "b3 = np.random.rand(1, 1)\n",
    "b3"
   ]
  },
  {
   "cell_type": "code",
   "execution_count": 274,
   "metadata": {},
   "outputs": [],
   "source": [
    "def sigmoid(z):\n",
    "    return 1 / (1 + np.exp(-z))"
   ]
  },
  {
   "cell_type": "code",
   "execution_count": 275,
   "metadata": {},
   "outputs": [],
   "source": [
    "def sigmoid_derivative(z):\n",
    "    return sigmoid(z) * (1 - sigmoid(z))"
   ]
  },
  {
   "cell_type": "markdown",
   "metadata": {},
   "source": [
    "### Lan truyền xuôi"
   ]
  },
  {
   "cell_type": "code",
   "execution_count": 276,
   "metadata": {},
   "outputs": [
    {
     "data": {
      "text/plain": [
       "array([[0.88732841, 1.02564923, 1.81447654],\n",
       "       [1.41512275, 1.35303847, 2.76962878],\n",
       "       [1.94291709, 1.68042772, 3.72478102],\n",
       "       [2.47071143, 2.00781696, 4.67993326]])"
      ]
     },
     "execution_count": 276,
     "metadata": {},
     "output_type": "execute_result"
    }
   ],
   "source": [
    "Z1 = X.dot(W1) + b1.T\n",
    "Z1"
   ]
  },
  {
   "cell_type": "code",
   "execution_count": 277,
   "metadata": {},
   "outputs": [
    {
     "data": {
      "text/plain": [
       "array([[0.70833854, 0.73607154, 0.85990204],\n",
       "       [0.80457268, 0.79462594, 0.94101238],\n",
       "       [0.87467227, 0.84296116, 0.97644962],\n",
       "       [0.92206291, 0.88161537, 0.99080569]])"
      ]
     },
     "execution_count": 277,
     "metadata": {},
     "output_type": "execute_result"
    }
   ],
   "source": [
    "H1 = sigmoid(Z1)\n",
    "H1"
   ]
  },
  {
   "cell_type": "code",
   "execution_count": 278,
   "metadata": {},
   "outputs": [
    {
     "data": {
      "text/plain": [
       "array([[1.61534403, 1.57616374, 1.8313442 , 1.74007038],\n",
       "       [1.75776479, 1.72454283, 1.97355728, 1.90030374],\n",
       "       [1.85208935, 1.81795418, 2.07098706, 2.00918695],\n",
       "       [1.91289369, 1.87577273, 2.13656694, 2.08255523]])"
      ]
     },
     "execution_count": 278,
     "metadata": {},
     "output_type": "execute_result"
    }
   ],
   "source": [
    "Z2 = H1.dot(W2) + b2.T\n",
    "Z2"
   ]
  },
  {
   "cell_type": "code",
   "execution_count": 279,
   "metadata": {},
   "outputs": [
    {
     "data": {
      "text/plain": [
       "array([[0.83415201, 0.82866052, 0.86192178, 0.850696  ],\n",
       "       [0.85292949, 0.84871306, 0.87799269, 0.8699259 ],\n",
       "       [0.86437223, 0.86032046, 0.88805113, 0.88175828],\n",
       "       [0.87134389, 0.86712482, 0.89440682, 0.88919604]])"
      ]
     },
     "execution_count": 279,
     "metadata": {},
     "output_type": "execute_result"
    }
   ],
   "source": [
    "H2 = sigmoid(Z2)\n",
    "H2"
   ]
  },
  {
   "cell_type": "code",
   "execution_count": 280,
   "metadata": {},
   "outputs": [
    {
     "data": {
      "text/plain": [
       "array([[2.11593528],\n",
       "       [2.14733609],\n",
       "       [2.16648362],\n",
       "       [2.17828381]])"
      ]
     },
     "execution_count": 280,
     "metadata": {},
     "output_type": "execute_result"
    }
   ],
   "source": [
    "Y_pred = H2.dot(W3) + b3.T\n",
    "Y_pred"
   ]
  },
  {
   "cell_type": "code",
   "execution_count": 281,
   "metadata": {},
   "outputs": [
    {
     "data": {
      "text/plain": [
       "np.float64(0.8414306534489755)"
      ]
     },
     "execution_count": 281,
     "metadata": {},
     "output_type": "execute_result"
    }
   ],
   "source": [
    "J = np.linalg.norm(Y_pred - Y)**2 / len(Y)\n",
    "J"
   ]
  },
  {
   "cell_type": "markdown",
   "metadata": {},
   "source": [
    "### Lan truyền ngược"
   ]
  },
  {
   "cell_type": "code",
   "execution_count": 282,
   "metadata": {},
   "outputs": [
    {
     "data": {
      "text/plain": [
       "array([[ 0.05796764],\n",
       "       [ 0.57366804],\n",
       "       [ 0.58324181],\n",
       "       [-0.41085809]])"
      ]
     },
     "execution_count": 282,
     "metadata": {},
     "output_type": "execute_result"
    }
   ],
   "source": [
    "gradient_J_Y_pred = 2/len(Y) * (Y_pred - Y)\n",
    "gradient_J_Y_pred"
   ]
  },
  {
   "cell_type": "code",
   "execution_count": 283,
   "metadata": {},
   "outputs": [
    {
     "data": {
      "text/plain": [
       "array([[ 0.02216003,  0.02083998,  0.04493588,  0.01373207],\n",
       "       [ 0.21930339,  0.20623974,  0.4447012 ,  0.13589735],\n",
       "       [ 0.22296328,  0.20968161,  0.45212268,  0.1381653 ],\n",
       "       [-0.15706396, -0.14770784, -0.31849271, -0.09732898]])"
      ]
     },
     "execution_count": 283,
     "metadata": {},
     "output_type": "execute_result"
    }
   ],
   "source": [
    "gradient_J_H2 = gradient_J_Y_pred.dot(W3.T)\n",
    "gradient_J_H2"
   ]
  },
  {
   "cell_type": "code",
   "execution_count": 284,
   "metadata": {},
   "outputs": [
    {
     "data": {
      "text/plain": [
       "(array([[0.68379155],\n",
       "        [0.68042467],\n",
       "        [0.70411419],\n",
       "        [0.69730643]]),\n",
       " array([[2.76563684]]))"
      ]
     },
     "execution_count": 284,
     "metadata": {},
     "output_type": "execute_result"
    }
   ],
   "source": [
    "gradient_J_W3 = H2.T.dot(gradient_J_Y_pred)\n",
    "gradient_J_b3 = gradient_J_W3.T.dot(np.ones((len(Y), 1)))\n",
    "\n",
    "gradient_J_W3, gradient_J_b3"
   ]
  },
  {
   "cell_type": "code",
   "execution_count": 285,
   "metadata": {},
   "outputs": [
    {
     "data": {
      "text/plain": [
       "array([[ 0.00306567,  0.00295891,  0.00534794,  0.00174414],\n",
       "       [ 0.02750959,  0.02648102,  0.04763707,  0.01537744],\n",
       "       [ 0.02613863,  0.02519726,  0.04494837,  0.0144052 ],\n",
       "       [-0.01760745, -0.0170188 , -0.03007949, -0.00958948]])"
      ]
     },
     "execution_count": 285,
     "metadata": {},
     "output_type": "execute_result"
    }
   ],
   "source": [
    "gradient_J_Z2 = gradient_J_H2 * sigmoid_derivative(Z2)\n",
    "gradient_J_Z2"
   ]
  },
  {
   "cell_type": "code",
   "execution_count": 286,
   "metadata": {},
   "outputs": [
    {
     "data": {
      "text/plain": [
       "array([[ 0.01092521,  0.00584791,  0.0064341 ],\n",
       "       [ 0.09750241,  0.05203214,  0.05740315],\n",
       "       [ 0.0922815 ,  0.04909039,  0.0543307 ],\n",
       "       [-0.0619659 , -0.03286469, -0.0364879 ]])"
      ]
     },
     "execution_count": 286,
     "metadata": {},
     "output_type": "execute_result"
    }
   ],
   "source": [
    "gradient_J_H1 = gradient_J_Z2.dot(W2.T)\n",
    "gradient_J_H1"
   ]
  },
  {
   "cell_type": "code",
   "execution_count": 287,
   "metadata": {},
   "outputs": [
    {
     "data": {
      "text/plain": [
       "(array([[0.03093255, 0.02974875, 0.05369555, 0.01736544],\n",
       "        [0.03062723, 0.02945675, 0.05316131, 0.01719192],\n",
       "        [0.03660053, 0.03520487, 0.06351267, 0.0205348 ]]),\n",
       " array([[0.03910643],\n",
       "        [0.03761839],\n",
       "        [0.06785389],\n",
       "        [0.0219373 ]]))"
      ]
     },
     "execution_count": 287,
     "metadata": {},
     "output_type": "execute_result"
    }
   ],
   "source": [
    "gradient_J_W2 = H1.T.dot(gradient_J_Z2)\n",
    "gradient_J_b2 = gradient_J_Z2.T.dot(np.ones(shape=(len(Y), 1)))\n",
    "\n",
    "gradient_J_W2, gradient_J_b2"
   ]
  },
  {
   "cell_type": "code",
   "execution_count": 288,
   "metadata": {},
   "outputs": [
    {
     "data": {
      "text/plain": [
       "array([[ 0.0022571 ,  0.00113607,  0.00077512],\n",
       "       [ 0.01533084,  0.00849141,  0.00318634],\n",
       "       [ 0.01011596,  0.00649847,  0.00124938],\n",
       "       [-0.00445305, -0.00343008, -0.0003324 ]])"
      ]
     },
     "execution_count": 288,
     "metadata": {},
     "output_type": "execute_result"
    }
   ],
   "source": [
    "gradient_J_Z1 = gradient_J_H1 * sigmoid_derivative(Z1)\n",
    "gradient_J_Z1"
   ]
  },
  {
   "cell_type": "code",
   "execution_count": 289,
   "metadata": {},
   "outputs": [
    {
     "data": {
      "text/plain": [
       "(array([[0.04545446, 0.023894  , 0.00956634]]),\n",
       " array([[0.02325085],\n",
       "        [0.01269588],\n",
       "        [0.00487844]]))"
      ]
     },
     "execution_count": 289,
     "metadata": {},
     "output_type": "execute_result"
    }
   ],
   "source": [
    "gradient_J_W1 = X.T.dot(gradient_J_Z1)\n",
    "gradient_J_b1 = gradient_J_Z1.T.dot(np.ones(shape=(len(Y), 1)))\n",
    "\n",
    "gradient_J_W1, gradient_J_b1"
   ]
  },
  {
   "cell_type": "code",
   "execution_count": null,
   "metadata": {},
   "outputs": [],
   "source": [
    "iter = 1000\n",
    "tolerance = 1e-5\n",
    "learning_rate = 0.1\n",
    "step = 0\n",
    "history = []"
   ]
  },
  {
   "cell_type": "code",
   "execution_count": 294,
   "metadata": {},
   "outputs": [
    {
     "data": {
      "text/plain": [
       "(4, 1)"
      ]
     },
     "execution_count": 294,
     "metadata": {},
     "output_type": "execute_result"
    }
   ],
   "source": [
    "X = np.array([[1],\n",
    "              [2],\n",
    "              [3],\n",
    "              [4]])\n",
    "\n",
    "Y = np.array([[2],\n",
    "              [1],\n",
    "              [1],\n",
    "              [3]])\n",
    "\n",
    "W1 = np.random.rand(1, 3)\n",
    "b1 = np.random.rand(3, 1)\n",
    "W2 = np.random.rand(3, 4)\n",
    "b2 = np.random.rand(4, 1)\n",
    "W3 = np.random.rand(4, 1)\n",
    "b3 = np.random.rand(1, 1)\n",
    "\n",
    "while True:\n",
    "    step += 1\n",
    "\n",
    "    # Lan truyền tiến\n",
    "    Z1 = X.dot(W1) + b1.T\n",
    "    H1 = sigmoid(Z1)\n",
    "    Z2 = H1.dot(W2) + b2.T\n",
    "    H2 = sigmoid(Z2)\n",
    "    Y_pred = H2.dot(W3) + b3.T\n",
    "    J = np.linalg.norm(Y_pred - Y)**2 / len(Y)\n",
    "\n",
    "    history.append(J)\n",
    "\n",
    "    # Lan truyền ngược\n",
    "    gradient_J_Y_pred = 2/len(Y) * (Y_pred - Y)\n",
    "\n",
    "    gradient_J_H2 = gradient_J_Y_pred.dot(W3.T)\n",
    "    gradient_J_W3 = H2.T.dot(gradient_J_Y_pred)\n",
    "    gradient_J_b3 = gradient_J_W3.T.sum(axis=0)\n",
    "\n",
    "    gradient_J_Z2 = gradient_J_H2 * sigmoid_derivative(Z2)\n",
    "    gradient_J_H1 = gradient_J_Z2.dot(W2.T)\n",
    "    gradient_J_W2 = H1.T.dot(gradient_J_Z2)\n",
    "    gradient_J_b2 = gradient_J_Z2.T.sum(axis=0)\n",
    "\n",
    "    gradient_J_Z1 = gradient_J_H1 * sigmoid_derivative(Z1)\n",
    "    gradient_J_W1 = X.T.dot(gradient_J_Z1)\n",
    "    gradient_J_b1 = gradient_J_Z1.T.sum(axis=0)\n",
    "\n",
    "\n",
    "    W1 = W1 - learning_rate * gradient_J_W1\n",
    "    b1 = b1 - learning_rate * gradient_J_b1\n",
    "\n",
    "    W2 = W2 - learning_rate * gradient_J_W2\n",
    "    b2 = b2 - learning_rate * gradient_J_b2\n",
    "\n",
    "    W3 = W3 - learning_rate * gradient_J_W3\n",
    "    b3 = b3 - learning_rate * gradient_J_b3\n",
    "\n",
    "    if np.linalg.norm(gradient_J_W1) < tolerance and \\\n",
    "        np.linalg.norm(gradient_J_b1) < tolerance and \\\n",
    "        np.linalg.norm(gradient_J_W2) < tolerance and \\\n",
    "        np.linalg.norm(gradient_J_b2) < tolerance and \\\n",
    "        np.linalg.norm(gradient_J_W3) < tolerance and \\\n",
    "        np.linalg.norm(gradient_J_b3) < tolerance or \\\n",
    "        step >= iter:\n",
    "        break\n",
    "\n",
    "\n",
    "W3.shape"
   ]
  },
  {
   "cell_type": "code",
   "execution_count": null,
   "metadata": {},
   "outputs": [
    {
     "data": {
      "image/png": "[encoded data removed]",
      "text/plain": [
       "<Figure size 640x480 with 1 Axes>"
      ]
     },
     "metadata": {},
     "output_type": "display_data"
    }
   ],
   "source": [
    "Z1 = X.dot(W1) + b1.T\n",
    "H1 = sigmoid(Z1)\n",
    "Z2 = H1.dot(W2) + b2.T\n",
    "H2 = sigmoid(Z2)\n",
    "Y_pred_2 = H2.dot(W3) + b3.T\n",
    "\n",
    "\n",
    "# Vẽ đồ thị dữ liệu thực tế và đường hồi quy\n",
    "plt.scatter(X, Y, color='blue', label='Dữ liệu thực tế')  # Dữ liệu thực tế\n",
    "plt.plot(X, Y_pred_2, color='red', label='Đường hồi quy (dự đoán)', linestyle='--')  # Đường hồi quy\n",
    "plt.xlabel('X')\n",
    "plt.ylabel('Y')\n",
    "plt.title('Dữ liệu thực tế và Đường hồi quy')\n",
    "plt.legend()\n",
    "plt.grid(True)\n",
    "plt.show()"
   ]
  },
  {
   "cell_type": "code",
   "execution_count": null,
   "metadata": {},
   "outputs": [],
   "source": []
  }
 ],
 "metadata": {
  "kernelspec": {
   "display_name": "venv",
   "language": "python",
   "name": "python3"
  },
  "language_info": {
   "codemirror_mode": {
    "name": "ipython",
    "version": 3
   },
   "file_extension": ".py",
   "mimetype": "text/x-python",
   "name": "python",
   "nbconvert_exporter": "python",
   "pygments_lexer": "ipython3",
   "version": "3.12.5"
  }
 },
 "nbformat": 4,
 "nbformat_minor": 2
}

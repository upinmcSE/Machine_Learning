{
 "cells": [
  {
   "cell_type": "markdown",
   "metadata": {},
   "source": [
    "#### Cho bộ dữ liệu\n",
    "\n",
    "X = [1, 2, 3, 4]\n",
    "Y = [2, 1, 1, 3]\n",
    "\n",
    "#### Hồi quy tuyến tính"
   ]
  },
  {
   "cell_type": "code",
   "execution_count": 2,
   "metadata": {},
   "outputs": [],
   "source": [
    "import numpy as np\n",
    "import matplotlib.pyplot as plt"
   ]
  },
  {
   "cell_type": "code",
   "execution_count": 3,
   "metadata": {},
   "outputs": [],
   "source": [
    "X = np.array([[1],\n",
    "              [2],\n",
    "              [3],\n",
    "              [4]])\n",
    "\n",
    "Y = np.array([[2],\n",
    "              [1],\n",
    "              [1],\n",
    "              [3]])"
   ]
  },
  {
   "cell_type": "code",
   "execution_count": 4,
   "metadata": {},
   "outputs": [
    {
     "data": {
      "text/plain": [
       "array([[0.46872004, 0.41680188, 0.09322462]])"
      ]
     },
     "execution_count": 4,
     "metadata": {},
     "output_type": "execute_result"
    }
   ],
   "source": [
    "W1 = np.random.rand(1, 3)\n",
    "W1"
   ]
  },
  {
   "cell_type": "code",
   "execution_count": 5,
   "metadata": {},
   "outputs": [
    {
     "data": {
      "text/plain": [
       "array([[0.05798209],\n",
       "       [0.64267243],\n",
       "       [0.99234329]])"
      ]
     },
     "execution_count": 5,
     "metadata": {},
     "output_type": "execute_result"
    }
   ],
   "source": [
    "b1 = np.random.rand(3, 1)\n",
    "b1"
   ]
  },
  {
   "cell_type": "code",
   "execution_count": 6,
   "metadata": {},
   "outputs": [
    {
     "data": {
      "text/plain": [
       "array([[0.25346941, 0.76929693, 0.00163599, 0.66328197],\n",
       "       [0.74984108, 0.31663392, 0.73914843, 0.54185757],\n",
       "       [0.84284313, 0.53349362, 0.45628981, 0.39209306]])"
      ]
     },
     "execution_count": 6,
     "metadata": {},
     "output_type": "execute_result"
    }
   ],
   "source": [
    "\n",
    "W2 = np.random.rand(3, 4)\n",
    "W2"
   ]
  },
  {
   "cell_type": "code",
   "execution_count": 7,
   "metadata": {},
   "outputs": [
    {
     "data": {
      "text/plain": [
       "array([[0.13599714],\n",
       "       [0.49542318],\n",
       "       [0.70374196],\n",
       "       [0.18253888]])"
      ]
     },
     "execution_count": 7,
     "metadata": {},
     "output_type": "execute_result"
    }
   ],
   "source": [
    "b2 = np.random.rand(4, 1)\n",
    "b2"
   ]
  },
  {
   "cell_type": "code",
   "execution_count": 8,
   "metadata": {},
   "outputs": [
    {
     "data": {
      "text/plain": [
       "array([[0.1053232 ],\n",
       "       [0.69375321],\n",
       "       [0.44216425],\n",
       "       [0.10415669]])"
      ]
     },
     "execution_count": 8,
     "metadata": {},
     "output_type": "execute_result"
    }
   ],
   "source": [
    "W3 = np.random.rand(4, 1)\n",
    "W3"
   ]
  },
  {
   "cell_type": "code",
   "execution_count": 18,
   "metadata": {},
   "outputs": [
    {
     "data": {
      "text/plain": [
       "array([[0.1341885]])"
      ]
     },
     "execution_count": 18,
     "metadata": {},
     "output_type": "execute_result"
    }
   ],
   "source": [
    "b3 = np.random.rand(1, 1)\n",
    "b3"
   ]
  },
  {
   "cell_type": "code",
   "execution_count": 10,
   "metadata": {},
   "outputs": [],
   "source": [
    "def sigmoid(z):\n",
    "    return 1 / (1 + np.exp(-z))"
   ]
  },
  {
   "cell_type": "code",
   "execution_count": 11,
   "metadata": {},
   "outputs": [],
   "source": [
    "def sigmoid_derivative(z):\n",
    "    return sigmoid(z) * (1 - sigmoid(z))"
   ]
  },
  {
   "cell_type": "markdown",
   "metadata": {},
   "source": [
    "### Lan truyền xuôi"
   ]
  },
  {
   "cell_type": "code",
   "execution_count": 20,
   "metadata": {},
   "outputs": [
    {
     "data": {
      "text/plain": [
       "array([[17.71966571,  3.28814888, 18.23707664],\n",
       "       [30.36160065,  5.23440586, 31.20592614],\n",
       "       [43.00353559,  7.18066284, 44.17477563],\n",
       "       [55.64547053,  9.12691982, 57.14362512]])"
      ]
     },
     "execution_count": 20,
     "metadata": {},
     "output_type": "execute_result"
    }
   ],
   "source": [
    "Z1 = X.dot(W1) + b1.T\n",
    "Z1"
   ]
  },
  {
   "cell_type": "code",
   "execution_count": 21,
   "metadata": {},
   "outputs": [
    {
     "data": {
      "text/plain": [
       "array([[0.99999998, 0.96402   , 0.99999999],\n",
       "       [1.        , 0.99469827, 1.        ],\n",
       "       [1.        , 0.99923942, 1.        ],\n",
       "       [1.        , 0.99989131, 1.        ]])"
      ]
     },
     "execution_count": 21,
     "metadata": {},
     "output_type": "execute_result"
    }
   ],
   "source": [
    "H1 = sigmoid(Z1)\n",
    "H1"
   ]
  },
  {
   "cell_type": "code",
   "execution_count": 22,
   "metadata": {},
   "outputs": [
    {
     "data": {
      "text/plain": [
       "array([[-16.97422822, -15.45676193, -21.69468565, -15.82862481],\n",
       "       [-17.08227092, -15.5518161 , -21.77232967, -15.89520427],\n",
       "       [-17.09826391, -15.56588647, -21.7838229 , -15.90505968],\n",
       "       [-17.10055976, -15.56790631, -21.78547279, -15.90647445]])"
      ]
     },
     "execution_count": 22,
     "metadata": {},
     "output_type": "execute_result"
    }
   ],
   "source": [
    "Z2 = H1.dot(W2) + b2.T\n",
    "Z2"
   ]
  },
  {
   "cell_type": "code",
   "execution_count": 23,
   "metadata": {},
   "outputs": [
    {
     "data": {
      "text/plain": [
       "array([[4.24801783e-08, 1.93737415e-07, 3.78545192e-10, 1.33572031e-07],\n",
       "       [3.81297523e-08, 1.76170022e-07, 3.50265502e-10, 1.24968467e-07],\n",
       "       [3.75247939e-08, 1.73708603e-07, 3.46262867e-10, 1.23742901e-07],\n",
       "       [3.74387416e-08, 1.73358092e-07, 3.45692043e-10, 1.23567957e-07]])"
      ]
     },
     "execution_count": 23,
     "metadata": {},
     "output_type": "execute_result"
    }
   ],
   "source": [
    "H2 = sigmoid(Z2)\n",
    "H2"
   ]
  },
  {
   "cell_type": "code",
   "execution_count": 24,
   "metadata": {},
   "outputs": [
    {
     "data": {
      "text/plain": [
       "array([[0.13417999, 0.13418085, 0.13417996, 0.13418428],\n",
       "       [0.13418067, 0.13418146, 0.13418063, 0.13418465],\n",
       "       [0.13418077, 0.13418154, 0.13418073, 0.1341847 ],\n",
       "       [0.13418078, 0.13418155, 0.13418074, 0.1341847 ]])"
      ]
     },
     "execution_count": 24,
     "metadata": {},
     "output_type": "execute_result"
    }
   ],
   "source": [
    "Y_pred = H2.dot(W3) + b3.T\n",
    "Y_pred"
   ]
  },
  {
   "cell_type": "code",
   "execution_count": 30,
   "metadata": {},
   "outputs": [
    {
     "data": {
      "text/plain": [
       "np.float64(13.193474636004138)"
      ]
     },
     "execution_count": 30,
     "metadata": {},
     "output_type": "execute_result"
    }
   ],
   "source": [
    "J = np.linalg.norm(Y_pred - Y)**2 / len(Y)\n",
    "J"
   ]
  },
  {
   "cell_type": "markdown",
   "metadata": {},
   "source": [
    "### Lan truyền ngược"
   ]
  },
  {
   "cell_type": "code",
   "execution_count": 31,
   "metadata": {},
   "outputs": [
    {
     "data": {
      "text/plain": [
       "array([[-0.93291001, -0.93290957, -0.93291002, -0.93290786],\n",
       "       [-0.43290966, -0.43290927, -0.43290968, -0.43290768],\n",
       "       [-0.43290962, -0.43290923, -0.43290964, -0.43290765],\n",
       "       [-1.43290961, -1.43290922, -1.43290963, -1.43290765]])"
      ]
     },
     "execution_count": 31,
     "metadata": {},
     "output_type": "execute_result"
    }
   ],
   "source": [
    "gradient_J_Y_pred = 2/len(Y) * (Y_pred - Y)\n",
    "gradient_J_Y_pred"
   ]
  },
  {
   "cell_type": "code",
   "execution_count": 32,
   "metadata": {},
   "outputs": [
    {
     "data": {
      "text/plain": [
       "array([[ 56.69280725,  65.78060582,  82.97980539,  88.39183498],\n",
       "       [ 26.30784319,  30.52496397,  38.50611708,  41.01753424],\n",
       "       [ 26.30784064,  30.524961  ,  38.50611329,  41.01753004],\n",
       "       [ 87.07773225, 101.03620214, 127.45343555, 135.76607117]])"
      ]
     },
     "execution_count": 32,
     "metadata": {},
     "output_type": "execute_result"
    }
   ],
   "source": [
    "gradient_J_H2 = gradient_J_Y_pred.dot(W3.T)\n",
    "gradient_J_H2"
   ]
  },
  {
   "cell_type": "code",
   "execution_count": 33,
   "metadata": {},
   "outputs": [
    {
     "data": {
      "text/plain": [
       "(array([[7.65870912e-06, 8.88639231e-06, 1.12098558e-05, 1.19409745e-05],\n",
       "        [3.52836990e-05, 4.09396397e-05, 5.16438440e-05, 5.50121104e-05],\n",
       "        [6.98870270e-08, 8.10898455e-08, 1.02291847e-07, 1.08963429e-07],\n",
       "        [2.48756503e-05, 2.88631914e-05, 3.64098504e-05, 3.87845395e-05]]),\n",
       " array([[6.78879454e-05],\n",
       "        [7.87703132e-05],\n",
       "        [9.93658421e-05],\n",
       "        [1.05846588e-04]]))"
      ]
     },
     "execution_count": 33,
     "metadata": {},
     "output_type": "execute_result"
    }
   ],
   "source": [
    "gradient_J_W3 = H2.T.dot(gradient_J_H2)\n",
    "gradient_J_b3 = gradient_J_W3.T.dot(np.ones(shape=(len(Y), 1)))\n",
    "\n",
    "gradient_J_W3, gradient_J_b3"
   ]
  },
  {
   "cell_type": "code",
   "execution_count": 34,
   "metadata": {},
   "outputs": [
    {
     "data": {
      "text/plain": [
       "array([[2.40832046e-06, 1.27441621e-05, 3.14116063e-08, 1.18066754e-05],\n",
       "       [1.00311150e-06, 5.37758263e-06, 1.34873644e-08, 5.12589772e-06],\n",
       "       [9.87196260e-07, 5.30244740e-06, 1.33332372e-08, 5.07562755e-06],\n",
       "       [3.26008059e-06, 1.75154402e-05, 4.40596385e-08, 1.67763340e-05]])"
      ]
     },
     "execution_count": 34,
     "metadata": {},
     "output_type": "execute_result"
    }
   ],
   "source": [
    "gradient_J_Z2 = gradient_J_H2 * sigmoid_derivative(Z2)\n",
    "gradient_J_Z2"
   ]
  },
  {
   "cell_type": "code",
   "execution_count": 35,
   "metadata": {},
   "outputs": [
    {
     "data": {
      "text/plain": [
       "array([[-9.02562106e-05, -7.36712092e-05, -1.18791922e-04],\n",
       "       [-3.84951449e-05, -3.13533322e-05, -5.07425806e-05],\n",
       "       [-3.80183388e-05, -3.09549931e-05, -5.01252977e-05],\n",
       "       [-1.25614028e-04, -1.02271728e-04, -1.65621198e-04]])"
      ]
     },
     "execution_count": 35,
     "metadata": {},
     "output_type": "execute_result"
    }
   ],
   "source": [
    "gradient_J_H1 = gradient_J_Z2.dot(W2.T)\n",
    "gradient_J_H1"
   ]
  },
  {
   "cell_type": "code",
   "execution_count": 36,
   "metadata": {},
   "outputs": [
    {
     "data": {
      "text/plain": [
       "(array([[7.65870877e-06, 4.09396320e-05, 1.02291846e-07, 3.87845344e-05],\n",
       "        [7.56563405e-06, 4.04466502e-05, 1.01075221e-07, 3.83268705e-05],\n",
       "        [7.65870879e-06, 4.09396321e-05, 1.02291846e-07, 3.87845345e-05]]),\n",
       " array([[7.65870882e-06],\n",
       "        [4.09396323e-05],\n",
       "        [1.02291846e-07],\n",
       "        [3.87845346e-05]]))"
      ]
     },
     "execution_count": 36,
     "metadata": {},
     "output_type": "execute_result"
    }
   ],
   "source": [
    "gradient_J_W2 = H1.T.dot(gradient_J_Z2)\n",
    "gradient_J_b2 = gradient_J_Z2.T.dot(np.ones(shape=(len(Y), 1)))\n",
    "\n",
    "gradient_J_W2, gradient_J_b2"
   ]
  },
  {
   "cell_type": "code",
   "execution_count": 38,
   "metadata": {},
   "outputs": [
    {
     "data": {
      "text/plain": [
       "array([[-1.81938261e-12, -2.55531811e-06, -1.42733248e-12],\n",
       "       [-2.51300593e-18, -1.65345677e-07, -1.41965665e-18],\n",
       "       [-0.00000000e+00, -2.35259720e-08, -0.00000000e+00],\n",
       "       [-0.00000000e+00, -1.11145086e-08, -0.00000000e+00]])"
      ]
     },
     "execution_count": 38,
     "metadata": {},
     "output_type": "execute_result"
    }
   ],
   "source": [
    "gradient_J_Z1 = gradient_J_H1 * sigmoid_derivative(Z1)\n",
    "gradient_J_Z1"
   ]
  },
  {
   "cell_type": "code",
   "execution_count": 39,
   "metadata": {},
   "outputs": [
    {
     "data": {
      "text/plain": [
       "(array([[-1.81938763e-12, -3.00104542e-06, -1.42733532e-12]]),\n",
       " array([[-1.81938512e-12],\n",
       "        [-2.75530427e-06],\n",
       "        [-1.42733390e-12]]))"
      ]
     },
     "execution_count": 39,
     "metadata": {},
     "output_type": "execute_result"
    }
   ],
   "source": [
    "gradient_J_W1 = X.T.dot(gradient_J_Z1)\n",
    "gradient_J_b1 = gradient_J_Z1.T.dot(np.ones(shape=(len(Y), 1)))\n",
    "\n",
    "gradient_J_W1, gradient_J_b1"
   ]
  },
  {
   "cell_type": "code",
   "execution_count": 27,
   "metadata": {},
   "outputs": [],
   "source": [
    "iter = 1000\n",
    "tolerance = 1e-5\n",
    "learning_rate = 0.1\n",
    "step = 0\n",
    "history = []"
   ]
  },
  {
   "cell_type": "code",
   "execution_count": 13,
   "metadata": {},
   "outputs": [],
   "source": [
    "X = np.array([[1],\n",
    "              [2],\n",
    "              [3],\n",
    "              [4]])\n",
    "\n",
    "Y = np.array([[2],\n",
    "              [1],\n",
    "              [1],\n",
    "              [3]])\n",
    "\n",
    "W1 = np.random.rand(1, 3)\n",
    "b1 = np.random.rand(3, 1)\n",
    "W2 = np.random.rand(3, 4)\n",
    "b2 = np.random.rand(4, 1)\n",
    "W3 = np.random.rand(4, 1)\n",
    "b3 = np.random.rand(1, 1)\n",
    "\n",
    "while True:\n",
    "    step += 1\n",
    "\n",
    "    # Lan truyền tiến\n",
    "    Z1 = X.dot(W1) + b1.T\n",
    "    H1 = sigmoid(Z1)\n",
    "    Z2 = H1.dot(W2) + b2.T\n",
    "    H2 = sigmoid(Z2)\n",
    "    Y_pred = H2.dot(W3) + b3.T\n",
    "    J = np.linalg.norm(Y_pred - Y)**2 / len(Y)\n",
    "\n",
    "    history.append(J)\n",
    "\n",
    "    # Lan truyền ngược\n",
    "    gradient_J_Y_pred = 2/len(Y) * (Y_pred - Y)\n",
    "\n",
    "    gradient_J_H2 = gradient_J_Y_pred.dot(W3.T)\n",
    "    gradient_J_W3 = H2.T.dot(gradient_J_H2)\n",
    "    gradient_J_b3 = gradient_J_W3.T.dot(np.ones(shape=(len(Y), 1)))\n",
    "\n",
    "    gradient_J_Z2 = gradient_J_H2 * sigmoid_derivative(Z2)\n",
    "    gradient_J_H1 = gradient_J_Z2.dot(W2.T)\n",
    "    gradient_J_W2 = H1.T.dot(gradient_J_Z2)\n",
    "    gradient_J_b2 = gradient_J_Z2.T.dot(np.ones(shape=(len(Y), 1)))\n",
    "\n",
    "    gradient_J_Z1 = gradient_J_H1 * sigmoid_derivative(Z1)\n",
    "    gradient_J_W1 = X.T.dot(gradient_J_Z1)\n",
    "    gradient_J_b1 = gradient_J_Z1.T.dot(np.ones(shape=(len(Y), 1)))\n",
    "\n",
    "\n",
    "    W1 = W1 - learning_rate * gradient_J_W1\n",
    "    b1 = b1 - learning_rate * gradient_J_b1\n",
    "\n",
    "    W2 = W2 - learning_rate * gradient_J_W2\n",
    "    b2 = b2 - learning_rate * gradient_J_b2\n",
    "\n",
    "    W3 = W3 - learning_rate * gradient_J_W3\n",
    "    b3 = b3 - learning_rate * gradient_J_b3\n",
    "\n",
    "    if np.linalg.norm(gradient_J_W1) < tolerance and \\\n",
    "        np.linalg.norm(gradient_J_b1) < tolerance and \\\n",
    "        np.linalg.norm(gradient_J_W2) < tolerance and \\\n",
    "        np.linalg.norm(gradient_J_b2) < tolerance and \\\n",
    "        np.linalg.norm(gradient_J_W3) < tolerance and \\\n",
    "        np.linalg.norm(gradient_J_b3) < tolerance or \\\n",
    "        step >= iter:\n",
    "        break\n",
    "\n"
   ]
  },
  {
   "cell_type": "code",
   "execution_count": 14,
   "metadata": {},
   "outputs": [
    {
     "data": {
      "text/plain": [
       "array([[-95.7702422 , -84.1217059 , -93.69242892, -51.73011465],\n",
       "       [-95.77024152, -84.1217053 , -93.69242825, -51.73011428],\n",
       "       [-95.77024142, -84.12170521, -93.69242816, -51.73011423],\n",
       "       [-95.77024141, -84.1217052 , -93.69242814, -51.73011423]])"
      ]
     },
     "execution_count": 14,
     "metadata": {},
     "output_type": "execute_result"
    }
   ],
   "source": [
    "Y_pred"
   ]
  },
  {
   "cell_type": "code",
   "execution_count": 15,
   "metadata": {},
   "outputs": [
    {
     "data": {
      "text/plain": [
       "array([[-95.77059085],\n",
       "       [-84.12211444],\n",
       "       [-93.69295148],\n",
       "       [-51.73069875]])"
      ]
     },
     "execution_count": 15,
     "metadata": {},
     "output_type": "execute_result"
    }
   ],
   "source": [
    "b3"
   ]
  },
  {
   "cell_type": "code",
   "execution_count": 16,
   "metadata": {},
   "outputs": [
    {
     "data": {
      "text/plain": [
       "array([[-95.77059085],\n",
       "       [-84.12211444],\n",
       "       [-93.69295148],\n",
       "       [-51.73069875]])"
      ]
     },
     "execution_count": 16,
     "metadata": {},
     "output_type": "execute_result"
    }
   ],
   "source": [
    "b3"
   ]
  },
  {
   "cell_type": "code",
   "execution_count": 17,
   "metadata": {},
   "outputs": [
    {
     "data": {
      "image/png": "[encoded data removed]",
      "text/plain": [
       "<Figure size 640x480 with 1 Axes>"
      ]
     },
     "metadata": {},
     "output_type": "display_data"
    }
   ],
   "source": [
    "Z1 = X.dot(W1) + b1.T\n",
    "H1 = sigmoid(Z1)\n",
    "Z2 = H1.dot(W2) + b2.T\n",
    "H2 = sigmoid(Z2)\n",
    "Y_pred = H2.dot(W3) + b3.T\n",
    "\n",
    "Y_pred\n",
    "\n",
    "# Vẽ đồ thị dữ liệu thực tế và đường hồi quy\n",
    "plt.scatter(X, Y, color='blue', label='Dữ liệu thực tế')  # Dữ liệu thực tế\n",
    "plt.plot(X, Y_pred, color='red', label='Đường hồi quy (dự đoán)', linestyle='--')  # Đường hồi quy\n",
    "plt.xlabel('X')\n",
    "plt.ylabel('Y')\n",
    "plt.title('Dữ liệu thực tế và Đường hồi quy')\n",
    "plt.legend()\n",
    "plt.grid(True)\n",
    "plt.show()"
   ]
  },
  {
   "cell_type": "code",
   "execution_count": null,
   "metadata": {},
   "outputs": [],
   "source": []
  }
 ],
 "metadata": {
  "kernelspec": {
   "display_name": "venv",
   "language": "python",
   "name": "python3"
  },
  "language_info": {
   "codemirror_mode": {
    "name": "ipython",
    "version": 3
   },
   "file_extension": ".py",
   "mimetype": "text/x-python",
   "name": "python",
   "nbconvert_exporter": "python",
   "pygments_lexer": "ipython3",
   "version": "3.12.5"
  }
 },
 "nbformat": 4,
 "nbformat_minor": 2
}

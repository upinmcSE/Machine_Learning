{
 "cells": [
  {
   "cell_type": "markdown",
   "metadata": {},
   "source": [
    "### Cho bộ dữ liệu\n",
    "X = [[1, 2], [2, 1], [3, 1], [4, 3]]\n",
    "Y = [1, 0, 0, 1]\n",
    "\n",
    "### Mạng lan truyền thẳng : hồi quy logistic\n",
    "- Thông số:\n",
    "+ 1 lớp ẩn độ rộng 3\n",
    "+ hàm kích hoạt trên lớp ẩn và lớp đầu ra : sigmoid\n",
    "+ tốc độ học : 0,1 \n",
    "+ độ lớn của gradient\n",
    "+ số lần lặp tiêu chuẩn: 1000\n",
    "+ hàm mất mát: entropy\n",
    "\n",
    "- Khởi tạo:\n",
    "+ W(1) = [[1, 0, -2], [-1, 3, 2]]\n",
    "+ b(1) = [4, 5, -3]\n",
    "+ W(2) = [2, 0, -3]\n",
    "+ b(2) = 1"
   ]
  },
  {
   "cell_type": "code",
   "execution_count": 25,
   "metadata": {},
   "outputs": [],
   "source": [
    "import numpy  as np\n",
    "import matplotlib.pyplot as plt"
   ]
  },
  {
   "cell_type": "markdown",
   "metadata": {},
   "source": [
    "### Lan truyền xuôi"
   ]
  },
  {
   "cell_type": "code",
   "execution_count": 26,
   "metadata": {},
   "outputs": [],
   "source": [
    "X = np.array([[1, 2],\n",
    "              [2, 1],\n",
    "              [3, 1],\n",
    "              [4, 3]])\n",
    "Y = np.array(([1],\n",
    "              [0],\n",
    "              [0],\n",
    "              [1]))"
   ]
  },
  {
   "cell_type": "code",
   "execution_count": 27,
   "metadata": {},
   "outputs": [],
   "source": [
    "W1 = np.array([[1, 0, -2],\n",
    "               [-1, 3, 2]])\n",
    "\n",
    "b1 = np.array(([4],\n",
    "               [5],\n",
    "               [-3]))"
   ]
  },
  {
   "cell_type": "code",
   "execution_count": 28,
   "metadata": {},
   "outputs": [],
   "source": [
    "W2 = np.array(([2],\n",
    "               [0],\n",
    "               [-3]))\n",
    "\n",
    "b2 = np.array(([1]))"
   ]
  },
  {
   "cell_type": "markdown",
   "metadata": {},
   "source": [
    "### Lan truyền xuôi"
   ]
  },
  {
   "cell_type": "code",
   "execution_count": 29,
   "metadata": {},
   "outputs": [],
   "source": [
    "def sigmoid(z):\n",
    "    return 1 / (1 + np.exp(-z))"
   ]
  },
  {
   "cell_type": "code",
   "execution_count": 30,
   "metadata": {},
   "outputs": [],
   "source": [
    "def sigmoid_derivative(z):\n",
    "    return sigmoid(z) * (1 - sigmoid(z))"
   ]
  },
  {
   "cell_type": "code",
   "execution_count": 31,
   "metadata": {},
   "outputs": [],
   "source": [
    "Z1 = X.dot(W1) + b1.flatten()"
   ]
  },
  {
   "cell_type": "code",
   "execution_count": 32,
   "metadata": {},
   "outputs": [
    {
     "data": {
      "text/plain": [
       "array([[9.52574127e-01, 9.99983299e-01, 2.68941421e-01],\n",
       "       [9.93307149e-01, 9.99664650e-01, 6.69285092e-03],\n",
       "       [9.97527377e-01, 9.99664650e-01, 9.11051194e-04],\n",
       "       [9.93307149e-01, 9.99999168e-01, 6.69285092e-03]])"
      ]
     },
     "execution_count": 32,
     "metadata": {},
     "output_type": "execute_result"
    }
   ],
   "source": [
    "H = sigmoid(Z1)\n",
    "H"
   ]
  },
  {
   "cell_type": "code",
   "execution_count": 33,
   "metadata": {},
   "outputs": [
    {
     "data": {
      "text/plain": [
       "array([[2.09832399],\n",
       "       [2.96653575],\n",
       "       [2.9923216 ],\n",
       "       [2.96653575]])"
      ]
     },
     "execution_count": 33,
     "metadata": {},
     "output_type": "execute_result"
    }
   ],
   "source": [
    "Z2 = H.dot(W2) + b2.flatten()\n",
    "Z2"
   ]
  },
  {
   "cell_type": "code",
   "execution_count": 34,
   "metadata": {},
   "outputs": [
    {
     "data": {
      "text/plain": [
       "array([[0.89074017],\n",
       "       [0.95103922],\n",
       "       [0.95222603],\n",
       "       [0.95103922]])"
      ]
     },
     "execution_count": 34,
     "metadata": {},
     "output_type": "execute_result"
    }
   ],
   "source": [
    "y_pred = sigmoid(Z2)\n",
    "y_pred"
   ]
  },
  {
   "cell_type": "code",
   "execution_count": 35,
   "metadata": {},
   "outputs": [
    {
     "data": {
      "text/plain": [
       "np.float64(1.5559781614141208)"
      ]
     },
     "execution_count": 35,
     "metadata": {},
     "output_type": "execute_result"
    }
   ],
   "source": [
    "J = (-Y * np.log(y_pred) - (1 - Y) * np.log(1 - y_pred)).mean()\n",
    "J"
   ]
  },
  {
   "cell_type": "markdown",
   "metadata": {},
   "source": [
    "### Lan truyền ngược"
   ]
  },
  {
   "cell_type": "code",
   "execution_count": 36,
   "metadata": {},
   "outputs": [
    {
     "data": {
      "text/plain": [
       "array([[-0.28066546],\n",
       "       [ 5.10612786],\n",
       "       [ 5.23297568],\n",
       "       [-0.26287034]])"
      ]
     },
     "execution_count": 36,
     "metadata": {},
     "output_type": "execute_result"
    }
   ],
   "source": [
    "J_Y_pred = 1 / 4 * (-Y / y_pred + (1-Y) / (1- y_pred))\n",
    "J_Y_pred"
   ]
  },
  {
   "cell_type": "code",
   "execution_count": 37,
   "metadata": {},
   "outputs": [
    {
     "data": {
      "text/plain": [
       "array([[-0.02731496],\n",
       "       [ 0.23775981],\n",
       "       [ 0.23805651],\n",
       "       [-0.01224019]])"
      ]
     },
     "execution_count": 37,
     "metadata": {},
     "output_type": "execute_result"
    }
   ],
   "source": [
    "gradient_J_Z2 = J_Y_pred * sigmoid_derivative(Z2)\n",
    "gradient_J_Z2"
   ]
  },
  {
   "cell_type": "code",
   "execution_count": 38,
   "metadata": {},
   "outputs": [
    {
     "data": {
      "text/plain": [
       "array([[-0.05462991,  0.        ,  0.08194487],\n",
       "       [ 0.47551961,  0.        , -0.71327942],\n",
       "       [ 0.47611302,  0.        , -0.71416953],\n",
       "       [-0.02448039,  0.        ,  0.03672058]])"
      ]
     },
     "execution_count": 38,
     "metadata": {},
     "output_type": "execute_result"
    }
   ],
   "source": [
    "gradient_J_H = gradient_J_Z2.dot(W2.T)\n",
    "gradient_J_H"
   ]
  },
  {
   "cell_type": "code",
   "execution_count": 39,
   "metadata": {},
   "outputs": [
    {
     "data": {
      "text/plain": [
       "array([[ 0.4354586 ],\n",
       "       [ 0.43610206],\n",
       "       [-0.00561987]])"
      ]
     },
     "execution_count": 39,
     "metadata": {},
     "output_type": "execute_result"
    }
   ],
   "source": [
    "gradient_J_W2 = H.T.dot(gradient_J_Z2)\n",
    "gradient_J_W2"
   ]
  },
  {
   "cell_type": "code",
   "execution_count": 40,
   "metadata": {},
   "outputs": [
    {
     "data": {
      "text/plain": [
       "array([0.43626116])"
      ]
     },
     "execution_count": 40,
     "metadata": {},
     "output_type": "execute_result"
    }
   ],
   "source": [
    "gradient_J_b2 = gradient_J_Z2.sum(axis=0)   \n",
    "gradient_J_b2"
   ]
  },
  {
   "cell_type": "code",
   "execution_count": 41,
   "metadata": {},
   "outputs": [
    {
     "data": {
      "text/plain": [
       "array([[-0.002468  ,  0.        ,  0.01611134],\n",
       "       [ 0.00316128,  0.        , -0.00474192],\n",
       "       [ 0.00117434,  0.        , -0.00065005],\n",
       "       [-0.00016275,  0.        ,  0.00024412]])"
      ]
     },
     "execution_count": 41,
     "metadata": {},
     "output_type": "execute_result"
    }
   ],
   "source": [
    "gradient_J_Z1 = gradient_J_H * sigmoid_derivative(Z1)\n",
    "gradient_J_Z1"
   ]
  },
  {
   "cell_type": "code",
   "execution_count": 42,
   "metadata": {},
   "outputs": [
    {
     "data": {
      "text/plain": [
       "array([[ 0.00672659,  0.        ,  0.00565382],\n",
       "       [-0.00108862,  0.        ,  0.02756307]])"
      ]
     },
     "execution_count": 42,
     "metadata": {},
     "output_type": "execute_result"
    }
   ],
   "source": [
    "gradient_J_W1 = X.T.dot(gradient_J_Z1)\n",
    "gradient_J_W1"
   ]
  },
  {
   "cell_type": "code",
   "execution_count": 43,
   "metadata": {},
   "outputs": [
    {
     "data": {
      "text/plain": [
       "array([0.00170487, 0.        , 0.01096349])"
      ]
     },
     "execution_count": 43,
     "metadata": {},
     "output_type": "execute_result"
    }
   ],
   "source": [
    "gradient_J_b1 = gradient_J_Z1.sum(axis=0)\n",
    "gradient_J_b1"
   ]
  },
  {
   "cell_type": "code",
   "execution_count": 44,
   "metadata": {},
   "outputs": [
    {
     "data": {
      "text/plain": [
       "(np.float64(0.028950309059374405),\n",
       " np.float64(0.011095251965183585),\n",
       " np.float64(0.6163122495636858),\n",
       " np.float64(0.4362611620726446))"
      ]
     },
     "execution_count": 44,
     "metadata": {},
     "output_type": "execute_result"
    }
   ],
   "source": [
    "np.linalg.norm(gradient_J_W1), np.linalg.norm(gradient_J_b1), np.linalg.norm(gradient_J_W2), np.linalg.norm(gradient_J_b2)"
   ]
  },
  {
   "cell_type": "markdown",
   "metadata": {},
   "source": [
    "### Đưa vào vào while"
   ]
  },
  {
   "cell_type": "code",
   "execution_count": null,
   "metadata": {},
   "outputs": [
    {
     "name": "stdout",
     "output_type": "stream",
     "text": [
      "Training completed in 1000 steps.\n"
     ]
    }
   ],
   "source": [
    "def sigmoid(z):\n",
    "    return 1 / (1 + np.exp(-z))\n",
    "\n",
    "def sigmoid_derivative(z):\n",
    "    return sigmoid(z) * (1 - sigmoid(z))\n",
    "\n",
    "X = np.array([[1, 2],\n",
    "              [2, 1],\n",
    "              [3, 1],\n",
    "              [4, 3]])  # (4, 2)\n",
    "\n",
    "Y = np.array([[1],\n",
    "              [0],\n",
    "              [0],\n",
    "              [1]])  # (4, 1)\n",
    "\n",
    "learning_rate = 0.1\n",
    "tolerance = 1e-5\n",
    "n_iter = 1000\n",
    "step = 0\n",
    "\n",
    "W1 = np.array([[1, 0, -2],\n",
    "               [-1, 3, 2]])  # (2, 3)\n",
    "\n",
    "b1 = np.array([[4, 5, -3]])  # (1, 3)\n",
    "\n",
    "W2 = np.array([[2],\n",
    "               [0],\n",
    "               [-3]])  # (3, 1)\n",
    "\n",
    "b2 = np.array([1])  # (1,)\n",
    "\n",
    "history = []\n",
    "\n",
    "while True:\n",
    "    step += 1\n",
    "    Z1 = X.dot(W1) + b1  # Kích thước: (4, 3)\n",
    "    H = sigmoid(Z1)\n",
    "    Z2 = H.dot(W2) + b2  # Kích thước: (4, 1)\n",
    "    y_pred = sigmoid(Z2)\n",
    "\n",
    "    # Tính toán hàm lỗi\n",
    "    J = (-Y * np.log(y_pred) - (1 - Y) * np.log(1 - y_pred)).mean()\n",
    "\n",
    "    # Lưu lại lịch sử giá trị hàm lỗi\n",
    "    history.append(J)\n",
    "\n",
    "    # Tính gradient\n",
    "    J_Y_pred = -Y / y_pred + (1 - Y) / (1 - y_pred)\n",
    "    \n",
    "    gradient_J_Z2 = J_Y_pred * sigmoid_derivative(Z2)\n",
    "    gradient_J_W2 = H.T.dot(gradient_J_Z2)\n",
    "    gradient_J_b2 = gradient_J_Z2.sum(axis=0)\n",
    "    gradient_J_H = gradient_J_Z2.dot(W2.T)\n",
    "    gradient_J_Z1 = gradient_J_H * sigmoid_derivative(Z1)\n",
    "    gradient_J_W1 = X.T.dot(gradient_J_Z1)\n",
    "    gradient_J_b1 = gradient_J_Z1.sum(axis=0, keepdims=True)  # (1, 3)\n",
    "\n",
    "    # Cập nhật tham số\n",
    "    W1 = W1 - learning_rate * gradient_J_W1\n",
    "    b1 = b1 - learning_rate * gradient_J_b1\n",
    "    W2 = W2 - learning_rate * gradient_J_W2\n",
    "    b2 = b2 - learning_rate * gradient_J_b2\n",
    "\n",
    "    # Kiểm tra điều kiện dừng\n",
    "    if (np.linalg.norm(gradient_J_W1) < tolerance and \n",
    "        np.linalg.norm(gradient_J_b1) < tolerance and \n",
    "        np.linalg.norm(gradient_J_W2) < tolerance and \n",
    "        np.linalg.norm(gradient_J_b2) < tolerance) or step >= n_iter:\n",
    "        break\n",
    "\n",
    "print(f\"Training completed in {step} steps.\")"
   ]
  },
  {
   "cell_type": "code",
   "execution_count": 49,
   "metadata": {},
   "outputs": [
    {
     "data": {
      "image/png": "[encoded data removed]",
      "text/plain": [
       "<Figure size 640x480 with 1 Axes>"
      ]
     },
     "metadata": {},
     "output_type": "display_data"
    }
   ],
   "source": [
    "# Hàm dự đoán sigmoid\n",
    "def predict(X):\n",
    "    Z1 = X.dot(W1) + b1\n",
    "    H = sigmoid(Z1)\n",
    "    Z2 = H.dot(W2) + b2\n",
    "    return sigmoid(Z2)\n",
    "\n",
    "# Dự đoán cho tất cả các điểm huấn luyện\n",
    "y_pred = predict(X)\n",
    "\n",
    "# Vẽ các điểm huấn luyện\n",
    "plt.scatter(X[:, 0], X[:, 1], c=Y.ravel(), cmap='bwr', marker='o', label='Training points')\n",
    "\n",
    "# Vẽ decision boundary\n",
    "# Tạo lưới các điểm để vẽ decision boundary\n",
    "x1_min, x1_max = X[:, 0].min() - 1, X[:, 0].max() + 1\n",
    "x2_min, x2_max = X[:, 1].min() - 1, X[:, 1].max() + 1\n",
    "xx1, xx2 = np.meshgrid(np.linspace(x1_min, x1_max, 100),\n",
    "                       np.linspace(x2_min, x2_max, 100))\n",
    "\n",
    "# Dự đoán cho tất cả các điểm trong lưới\n",
    "Z = predict(np.c_[xx1.ravel(), xx2.ravel()])\n",
    "Z = Z.reshape(xx1.shape)\n",
    "\n",
    "# Vẽ decision boundary (đường phân tách)\n",
    "plt.contour(xx1, xx2, Z, levels=[0.5], linewidths=2, colors='black')\n",
    "\n",
    "plt.title(\"Decision Boundary based on Training Data\")\n",
    "plt.xlabel('Feature 1')\n",
    "plt.ylabel('Feature 2')\n",
    "plt.legend()\n",
    "plt.show()"
   ]
  },
  {
   "cell_type": "code",
   "execution_count": null,
   "metadata": {},
   "outputs": [],
   "source": []
  }
 ],
 "metadata": {
  "kernelspec": {
   "display_name": "venv",
   "language": "python",
   "name": "python3"
  },
  "language_info": {
   "codemirror_mode": {
    "name": "ipython",
    "version": 3
   },
   "file_extension": ".py",
   "mimetype": "text/x-python",
   "name": "python",
   "nbconvert_exporter": "python",
   "pygments_lexer": "ipython3",
   "version": "3.12.5"
  }
 },
 "nbformat": 4,
 "nbformat_minor": 2
}
